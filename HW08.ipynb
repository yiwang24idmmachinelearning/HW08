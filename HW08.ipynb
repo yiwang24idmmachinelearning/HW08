{
 "cells": [
  {
   "cell_type": "markdown",
   "metadata": {
    "id": "QshK8s21WBrf"
   },
   "source": [
    "# HW08\n",
    "\n",
    "## Exercises to practice pandas, data analysis, regression and classification"
   ]
  },
  {
   "cell_type": "markdown",
   "metadata": {
    "id": "7Hf8SXUwWOho"
   },
   "source": [
    "### Setup\n",
    "\n",
    "Run the following 2 cells to import all necessary libraries and helpers for this homework."
   ]
  },
  {
   "cell_type": "code",
   "execution_count": 1,
   "metadata": {},
   "outputs": [],
   "source": [
    "!wget -q https://github.com/DM-GY-9103-2024F-H/9103-utils/raw/main/src/data_utils.py\n",
    "!wget -q https://github.com/DM-GY-9103-2024F-H/9103-utils/raw/main/src/image_utils.py"
   ]
  },
  {
   "cell_type": "code",
   "execution_count": 2,
   "metadata": {},
   "outputs": [],
   "source": [
    "import matplotlib.pyplot as plt\n",
    "import pandas as pd\n",
    "\n",
    "from os import listdir, path\n",
    "from sklearn.preprocessing import OrdinalEncoder\n",
    "\n",
    "from data_utils import object_from_json_url\n",
    "from data_utils import StandardScaler\n",
    "from data_utils import LFWUtils\n",
    "from data_utils import LinearRegression, RandomForestClassifier, SVC\n",
    "from data_utils import classification_error, display_confusion_matrix, regression_error\n",
    "\n",
    "from image_utils import make_image, open_image\n",
    "\n",
    "from HW08_utils import CamUtils"
   ]
  },
  {
   "cell_type": "markdown",
   "metadata": {},
   "source": [
    "### Load Dataset\n",
    "\n",
    "Let's load up the full [ANSUR](https://www.openlab.psu.edu/ansur2/) dataset that we looked at briefly in [Week 02](https://github.com/DM-GY-9103-2024F-H/WK02).\n",
    "\n",
    "This is the dataset that has anthropometric information about U.S. Army personnel."
   ]
  },
  {
   "cell_type": "code",
   "execution_count": 3,
   "metadata": {},
   "outputs": [
    {
     "data": {
      "text/plain": [
       "[{'age': 18,\n",
       "  'gender': 'F',\n",
       "  'height': 66,\n",
       "  'weight': 135,\n",
       "  'span': 1699,\n",
       "  'stature': 1645,\n",
       "  'ear': {'breadth': 30, 'length': 61, 'protrusion': 20},\n",
       "  'foot': {'breadth': 97, 'length': 243},\n",
       "  'hand': {'breadth': 78, 'length': 182, 'palm': 108},\n",
       "  'head': {'height': 243, 'circumference': 557}},\n",
       " {'age': 30,\n",
       "  'gender': 'M',\n",
       "  'height': 68,\n",
       "  'weight': 207,\n",
       "  'span': 1749,\n",
       "  'stature': 1715,\n",
       "  'ear': {'breadth': 35, 'length': 63, 'protrusion': 17},\n",
       "  'foot': {'breadth': 100, 'length': 252},\n",
       "  'hand': {'breadth': 87, 'length': 184, 'palm': 114},\n",
       "  'head': {'height': 238, 'circumference': 560}}]"
      ]
     },
     "execution_count": 3,
     "metadata": {},
     "output_type": "execute_result"
    }
   ],
   "source": [
    "# Load Dataset\n",
    "ANSUR_FILE = \"https://raw.githubusercontent.com/DM-GY-9103-2024F-H/9103-utils/main/datasets/json/ansur.json\"\n",
    "ansur_data = object_from_json_url(ANSUR_FILE)\n",
    "\n",
    "# Look at first 2 records\n",
    "ansur_data[:2]"
   ]
  },
  {
   "cell_type": "markdown",
   "metadata": {},
   "source": [
    "#### Nested data\n",
    "\n",
    "This is that *nested* dataset from Week 02.\n",
    "\n",
    "# 🤔\n",
    "\n",
    "Let's load it into a `DataFrame` to see what happens."
   ]
  },
  {
   "cell_type": "code",
   "execution_count": null,
   "metadata": {},
   "outputs": [
    {
     "name": "stdout",
     "output_type": "stream",
     "text": [
      "<class 'pandas.core.frame.DataFrame'>\n",
      "RangeIndex: 5600 entries, 0 to 5599\n",
      "Data columns (total 10 columns):\n",
      " #   Column   Non-Null Count  Dtype \n",
      "---  ------   --------------  ----- \n",
      " 0   age      5600 non-null   int64 \n",
      " 1   gender   5600 non-null   object\n",
      " 2   height   5600 non-null   int64 \n",
      " 3   weight   5600 non-null   int64 \n",
      " 4   span     5600 non-null   int64 \n",
      " 5   stature  5600 non-null   int64 \n",
      " 6   ear      5600 non-null   object\n",
      " 7   foot     5600 non-null   object\n",
      " 8   hand     5600 non-null   object\n",
      " 9   head     5600 non-null   object\n",
      "dtypes: int64(5), object(5)\n",
      "memory usage: 437.6+ KB\n"
     ]
    }
   ],
   "source": [
    "# Read into DataFrame\n",
    "ansur_df = pd.DataFrame.from_records(ansur_data)\n",
    "ansur_df.head()"
   ]
  },
  {
   "cell_type": "markdown",
   "metadata": {},
   "source": [
    "\n",
    "# 😓🙄\n",
    "\n",
    "That didn't work too well. We ended up with objects in our columns.\n",
    "\n",
    "Luckily, our `DataFrame` library has a function called [`json_normalize()`](https://pandas.pydata.org/pandas-docs/stable/reference/api/pandas.json_normalize.html) that can help."
   ]
  },
  {
   "cell_type": "code",
   "execution_count": 5,
   "metadata": {},
   "outputs": [
    {
     "data": {
      "text/html": [
       "<div>\n",
       "<style scoped>\n",
       "    .dataframe tbody tr th:only-of-type {\n",
       "        vertical-align: middle;\n",
       "    }\n",
       "\n",
       "    .dataframe tbody tr th {\n",
       "        vertical-align: top;\n",
       "    }\n",
       "\n",
       "    .dataframe thead th {\n",
       "        text-align: right;\n",
       "    }\n",
       "</style>\n",
       "<table border=\"1\" class=\"dataframe\">\n",
       "  <thead>\n",
       "    <tr style=\"text-align: right;\">\n",
       "      <th></th>\n",
       "      <th>age</th>\n",
       "      <th>gender</th>\n",
       "      <th>height</th>\n",
       "      <th>weight</th>\n",
       "      <th>span</th>\n",
       "      <th>stature</th>\n",
       "      <th>ear.breadth</th>\n",
       "      <th>ear.length</th>\n",
       "      <th>ear.protrusion</th>\n",
       "      <th>foot.breadth</th>\n",
       "      <th>foot.length</th>\n",
       "      <th>hand.breadth</th>\n",
       "      <th>hand.length</th>\n",
       "      <th>hand.palm</th>\n",
       "      <th>head.height</th>\n",
       "      <th>head.circumference</th>\n",
       "    </tr>\n",
       "  </thead>\n",
       "  <tbody>\n",
       "    <tr>\n",
       "      <th>0</th>\n",
       "      <td>18</td>\n",
       "      <td>F</td>\n",
       "      <td>66</td>\n",
       "      <td>135</td>\n",
       "      <td>1699</td>\n",
       "      <td>1645</td>\n",
       "      <td>30</td>\n",
       "      <td>61</td>\n",
       "      <td>20</td>\n",
       "      <td>97</td>\n",
       "      <td>243</td>\n",
       "      <td>78</td>\n",
       "      <td>182</td>\n",
       "      <td>108</td>\n",
       "      <td>243</td>\n",
       "      <td>557</td>\n",
       "    </tr>\n",
       "    <tr>\n",
       "      <th>1</th>\n",
       "      <td>30</td>\n",
       "      <td>M</td>\n",
       "      <td>68</td>\n",
       "      <td>207</td>\n",
       "      <td>1749</td>\n",
       "      <td>1715</td>\n",
       "      <td>35</td>\n",
       "      <td>63</td>\n",
       "      <td>17</td>\n",
       "      <td>100</td>\n",
       "      <td>252</td>\n",
       "      <td>87</td>\n",
       "      <td>184</td>\n",
       "      <td>114</td>\n",
       "      <td>238</td>\n",
       "      <td>560</td>\n",
       "    </tr>\n",
       "    <tr>\n",
       "      <th>2</th>\n",
       "      <td>27</td>\n",
       "      <td>M</td>\n",
       "      <td>67</td>\n",
       "      <td>121</td>\n",
       "      <td>1684</td>\n",
       "      <td>1657</td>\n",
       "      <td>36</td>\n",
       "      <td>59</td>\n",
       "      <td>24</td>\n",
       "      <td>92</td>\n",
       "      <td>251</td>\n",
       "      <td>84</td>\n",
       "      <td>180</td>\n",
       "      <td>103</td>\n",
       "      <td>239</td>\n",
       "      <td>516</td>\n",
       "    </tr>\n",
       "    <tr>\n",
       "      <th>3</th>\n",
       "      <td>20</td>\n",
       "      <td>M</td>\n",
       "      <td>73</td>\n",
       "      <td>185</td>\n",
       "      <td>1878</td>\n",
       "      <td>1828</td>\n",
       "      <td>36</td>\n",
       "      <td>60</td>\n",
       "      <td>21</td>\n",
       "      <td>104</td>\n",
       "      <td>280</td>\n",
       "      <td>95</td>\n",
       "      <td>201</td>\n",
       "      <td>124</td>\n",
       "      <td>270</td>\n",
       "      <td>582</td>\n",
       "    </tr>\n",
       "    <tr>\n",
       "      <th>4</th>\n",
       "      <td>33</td>\n",
       "      <td>M</td>\n",
       "      <td>76</td>\n",
       "      <td>150</td>\n",
       "      <td>1977</td>\n",
       "      <td>1883</td>\n",
       "      <td>39</td>\n",
       "      <td>65</td>\n",
       "      <td>27</td>\n",
       "      <td>101</td>\n",
       "      <td>271</td>\n",
       "      <td>90</td>\n",
       "      <td>194</td>\n",
       "      <td>113</td>\n",
       "      <td>254</td>\n",
       "      <td>559</td>\n",
       "    </tr>\n",
       "  </tbody>\n",
       "</table>\n",
       "</div>"
      ],
      "text/plain": [
       "   age gender  height  weight  span  stature  ear.breadth  ear.length  \\\n",
       "0   18      F      66     135  1699     1645           30          61   \n",
       "1   30      M      68     207  1749     1715           35          63   \n",
       "2   27      M      67     121  1684     1657           36          59   \n",
       "3   20      M      73     185  1878     1828           36          60   \n",
       "4   33      M      76     150  1977     1883           39          65   \n",
       "\n",
       "   ear.protrusion  foot.breadth  foot.length  hand.breadth  hand.length  \\\n",
       "0              20            97          243            78          182   \n",
       "1              17           100          252            87          184   \n",
       "2              24            92          251            84          180   \n",
       "3              21           104          280            95          201   \n",
       "4              27           101          271            90          194   \n",
       "\n",
       "   hand.palm  head.height  head.circumference  \n",
       "0        108          243                 557  \n",
       "1        114          238                 560  \n",
       "2        103          239                 516  \n",
       "3        124          270                 582  \n",
       "4        113          254                 559  "
      ]
     },
     "execution_count": 5,
     "metadata": {},
     "output_type": "execute_result"
    }
   ],
   "source": [
    "# Read into DataFrame\n",
    "ansur_df = pd.json_normalize(ansur_data)\n",
    "ansur_df.head()"
   ]
  },
  {
   "cell_type": "markdown",
   "metadata": {},
   "source": [
    "Much better. `DataFrames` are magic.\n",
    "\n",
    "#### Data Exploration\n",
    "\n",
    "Before we start creating models, let's do a little bit of data analysis and get a feeling for the shapes, distributions and relationships of our data.\n",
    "\n",
    "1. Print `min`, `max` and `average` values for all of the features.\n",
    "2. Print `covariance` tables for `age`, `ear.length` and `head.circumference`.\n",
    "3. Plot `age`, `ear.length` and `head.circumference` versus the $1$ *feature* that is most correlated to each of them.\n",
    "\n",
    "Don't forget to *encode* and *normalize* the data."
   ]
  },
  {
   "cell_type": "code",
   "execution_count": null,
   "metadata": {},
   "outputs": [],
   "source": [
    "### Encode non-numerical features\n",
    "\n",
    "## 1. Print min, max, avg\n",
    "# min_feature = min(ansur_features)\n",
    "# max_feature = max(ansur_features)\n",
    "# avg_feature = sum(ansur_features)/len(ansur_features)\n",
    "# #ansur_features = [f[\"age\"\"height\" \"weight\" \"span\" \"staure\" \"ear.breath\" \"ear.lengh\" \"ear.protrusion\" \"foot.breadth\" \"foot.length\" \"hand.breadth\" \"hand.length\" \"hand.palm\" \"head.height\" \"head.circumference\"]for f in ansur_data]"
   ]
  },
  {
   "cell_type": "code",
   "execution_count": 26,
   "metadata": {
    "tags": [
     "work_cell"
    ]
   },
   "outputs": [
    {
     "name": "stdout",
     "output_type": "stream",
     "text": [
      "Available columns in ansur_df:\n",
      " Index(['age', 'gender', 'height', 'weight', 'span', 'stature', 'ear', 'foot',\n",
      "       'hand', 'head'],\n",
      "      dtype='object')\n",
      "Minimum values for each feature:\n",
      " age          17\n",
      "gender        0\n",
      "height       56\n",
      "weight        0\n",
      "span       1323\n",
      "stature    1409\n",
      "dtype: int64\n",
      "Maximum values for each feature:\n",
      " age          58\n",
      "gender        0\n",
      "height       94\n",
      "weight      321\n",
      "span       2121\n",
      "stature    1993\n",
      "dtype: int64\n",
      "Average values for each feature:\n",
      " age          29.745357\n",
      "gender        0.000000\n",
      "height       68.247321\n",
      "weight      174.558393\n",
      "span       1763.703393\n",
      "stature    1714.265357\n",
      "dtype: float64\n",
      "Normalized data:\n",
      "         age  gender    height    weight      span   stature\n",
      "0  0.024390     NaN  0.263158  0.420561  0.471178  0.404110\n",
      "1  0.317073     NaN  0.315789  0.644860  0.533835  0.523973\n",
      "2  0.243902     NaN  0.289474  0.376947  0.452381  0.424658\n",
      "3  0.073171     NaN  0.447368  0.576324  0.695489  0.717466\n",
      "4  0.390244     NaN  0.526316  0.467290  0.819549  0.811644\n",
      "Covariance matrix:\n",
      "                age  gender      height       weight          span      stature\n",
      "age      75.012481     0.0    0.987441    63.419409     61.794434    29.626255\n",
      "gender    0.000000     0.0    0.000000     0.000000      0.000000     0.000000\n",
      "height    0.987441     0.0   14.975256    86.123527    373.166601   334.659311\n",
      "weight   63.419409     0.0   86.123527  1138.876390   2481.896498  2075.134350\n",
      "span     61.794434     0.0  373.166601  2481.896498  12315.263857  8991.347519\n",
      "stature  29.626255     0.0  334.659311  2075.134350   8991.347519  8118.118178\n",
      "The feature most correlated with age is weight (correlation = 0.22)\n"
     ]
    },
    {
     "data": {
      "image/png": "[encoded data removed]",
      "text/plain": [
       "<Figure size 800x600 with 1 Axes>"
      ]
     },
     "metadata": {},
     "output_type": "display_data"
    }
   ],
   "source": [
    "# Work on Data Exploration here\n",
    "print(\"Available columns in ansur_df:\\n\", ansur_df.columns)\n",
    "### Encode non-numerical features\n",
    "\n",
    "# encode F as 1, M as 0\n",
    "ansur_df['gender'] = ansur_df['gender'].apply(lambda x: 1 if x == 'F' else 0)\n",
    "\n",
    "## 1. Print min, max, avg\n",
    "numeric_df = ansur_df.select_dtypes(include=['float64', 'int64'])\n",
    "\n",
    "min_features = numeric_df.min()\n",
    "max_features = numeric_df.max()\n",
    "avg_features = numeric_df.mean()\n",
    "\n",
    "print(\"Minimum values for each feature:\\n\", min_features)\n",
    "print(\"Maximum values for each feature:\\n\", max_features)\n",
    "print(\"Average values for each feature:\\n\", avg_features)\n",
    "\n",
    "### Normalize all data\n",
    "normalized_df = (numeric_df - min_features) / (max_features - min_features)\n",
    "print(\"Normalized data:\\n\", normalized_df.head())\n",
    "\n",
    "## 2. Print Covariances\n",
    "cov_matrix = numeric_df.cov()\n",
    "print(\"Covariance matrix:\\n\", cov_matrix)\n",
    "\n",
    "## 3. Plot features most correlated to age, ear length and head circumference\n",
    "features_of_interest = ['age', 'ear.length', 'head.circumference']\n",
    "features_of_interest = [feature for feature in features_of_interest if feature in numeric_df.columns]\n",
    "\n",
    "correlation_matrix = numeric_df.corr()\n",
    "\n",
    "# Check and plot correlations for each feature of interest\n",
    "for feature in features_of_interest:\n",
    "    most_correlated_feature = correlation_matrix[feature].drop(feature).idxmax()\n",
    "    correlation_value = correlation_matrix[feature][most_correlated_feature]\n",
    "    \n",
    "    print(f\"The feature most correlated with {feature} is {most_correlated_feature} (correlation = {correlation_value:.2f})\")\n",
    "\n",
    "    # Plot the scatter plot of feature vs its most correlated feature\n",
    "    plt.figure(figsize=(8, 6))\n",
    "    plt.scatter(numeric_df[feature], numeric_df[most_correlated_feature], alpha=0.6)\n",
    "    plt.title(f\"{feature} vs {most_correlated_feature} (correlation = {correlation_value:.2f})\")\n",
    "    plt.xlabel(feature)\n",
    "    plt.ylabel(most_correlated_feature)\n",
    "    plt.grid(True)\n",
    "    plt.show()\n",
    "# else:\n",
    "#     print(f\"Feature '{feature}' not found in data columns.\")"
   ]
  },
  {
   "cell_type": "markdown",
   "metadata": {},
   "source": [
    "### Interpretation\n",
    "\n",
    "<span style=\"color:hotpink;\">\n",
    "Does anything stand out about these graphs? Or the correlations?<br>\n",
    "Are correlations symmetric? Does the feature most correlated to ear length also have ear length as its most correlated pair?\n",
    "</span>"
   ]
  },
  {
   "cell_type": "markdown",
   "metadata": {
    "tags": [
     "work_cell"
    ]
   },
   "source": [
    "<span style=\"color:hotpink;\">EDIT THIS CELL WITH ANSWER</span>"
   ]
  },
  {
   "cell_type": "markdown",
   "metadata": {},
   "source": [
    "### Regression\n",
    "\n",
    "Now, we want to create a regression model to predict `head.circumference` from the data.\n",
    "\n",
    "From our [Week 08](https://github.com/DM-GY-9103-2024F-H/WK08) notebook, we can create a regression model by following these steps:\n",
    "\n",
    "1. Load dataset (done! 🎉)\n",
    "2. Encode label features as numbers (done! ⚡️)\n",
    "3. Normalize the data (done! 🍾)\n",
    "4. Separate the outcome variable and the input features\n",
    "5. Create a regression model using all features\n",
    "6. Run model on training data and measure error\n",
    "7. Plot predictions and interpret results\n",
    "8. Run model on test data, measure error, plot predictions, interpret results"
   ]
  },
  {
   "cell_type": "code",
   "execution_count": null,
   "metadata": {
    "tags": [
     "work_cell"
    ]
   },
   "outputs": [],
   "source": [
    "# Work on Regression Model here\n",
    "\n",
    "## Separate outcome variable and input features\n",
    "\n",
    "## Create a regression model\n",
    "\n",
    "## Measure error on training data\n",
    "\n",
    "## Plot predictions and interpret results"
   ]
  },
  {
   "cell_type": "code",
   "execution_count": null,
   "metadata": {},
   "outputs": [],
   "source": [
    "## Load Test Data\n",
    "ANSUR_TEST_FILE = \"https://raw.githubusercontent.com/DM-GY-9103-2024F-H/9103-utils/main/datasets/json/ansur-test.json\"\n",
    "ansur_test_data = object_from_json_url(ANSUR_TEST_FILE)\n",
    "ansur_test_df = pd.json_normalize(ansur_test_data)\n",
    "\n",
    "ansur_test_encoded_df = ansur_test_df.copy()\n",
    "\n",
    "g_vals = ansur_encoder.transform(ansur_test_df[[\"gender\"]].values)\n",
    "ansur_test_encoded_df[[\"gender\"]] = g_vals\n",
    "\n",
    "ansur_test_scaled_df = ansur_scaler.transform(ansur_test_encoded_df)"
   ]
  },
  {
   "cell_type": "code",
   "execution_count": null,
   "metadata": {
    "tags": [
     "work_cell"
    ]
   },
   "outputs": [],
   "source": [
    "## Run model on test data\n",
    "\n",
    "## Measure error on test data\n",
    "\n",
    "## Plot predictions and interpret results"
   ]
  },
  {
   "cell_type": "markdown",
   "metadata": {},
   "source": [
    "### Interpretation\n",
    "\n",
    "<span style=\"color:hotpink;\">\n",
    "How well does your classifier perform?<br>\n",
    "How could you improve it?<br>\n",
    "Are there ranges of circumferences that don't get predicted well?\n",
    "</span>"
   ]
  },
  {
   "cell_type": "markdown",
   "metadata": {
    "tags": [
     "work_cell"
    ]
   },
   "source": [
    "<span style=\"color:hotpink;\">EDIT THIS CELL WITH ANSWER</span>"
   ]
  },
  {
   "cell_type": "markdown",
   "metadata": {},
   "source": [
    "## Classification\n",
    "\n",
    "The dataset we are going to use has images from $25$ different security cameras, and our task is to separate them by camera. Some of the cameras move, some of them don't, and there are more than $1000$ images, so there's no way we want to do this by hand.\n",
    "\n",
    "### Loading Data\n",
    "\n",
    "If we look at the images in `./data/images/0801-500/train/`, we'll notice that they are named and organized in a very particular way. They're all in the same directory and the first part of their filename specifies which camera they came from. Even though those `ids` are numbers, they're not sequential, so we'll use some helper functions to extract a unique `label` from their filenames.\n",
    "\n",
    "This is exactly what the `OrdinalEncoder` class does, but since we only have to encode this one column, we'll do it by hand while we read the files in."
   ]
  },
  {
   "cell_type": "code",
   "execution_count": null,
   "metadata": {},
   "outputs": [],
   "source": [
    "# this creates a list of all the files in a given directory, that end in .jpg\n",
    "train_files = [f for f in listdir(\"./data/images/0801-500/train\") if f.endswith(\".jpg\")]"
   ]
  },
  {
   "cell_type": "code",
   "execution_count": null,
   "metadata": {
    "tags": [
     "work_cell"
    ]
   },
   "outputs": [],
   "source": [
    "# TODO: check and see what is inside the list here"
   ]
  },
  {
   "cell_type": "markdown",
   "metadata": {},
   "source": [
    "Now we'll read the image pixels and extract their labels. `CamUtils.get_label()` is the helper function we'll use to \"encode\" and return a label id based on the filename."
   ]
  },
  {
   "cell_type": "code",
   "execution_count": null,
   "metadata": {},
   "outputs": [],
   "source": [
    "pixel_data = []\n",
    "label_data = []\n",
    "\n",
    "for fname in train_files:\n",
    "  label = CamUtils.get_label(fname)\n",
    "  img = open_image(path.join(\"./data/images/0801-500/train\", fname))\n",
    "  pixel_data.append(img.pixels)\n",
    "  label_data.append(label)"
   ]
  },
  {
   "cell_type": "code",
   "execution_count": null,
   "metadata": {
    "tags": [
     "work_cell"
    ]
   },
   "outputs": [],
   "source": [
    "# TODO: check if labels got extracted correctly by looking at \n",
    "#       the first few items of the label list and the filename list"
   ]
  },
  {
   "cell_type": "markdown",
   "metadata": {},
   "source": [
    "The labels and the filenames won't match exactly since labels start at $0$ and the filenames start at $01$ and skip some numbers.\n",
    "\n",
    "We can open some images from pixels, just to make sure we loaded them correctly:"
   ]
  },
  {
   "cell_type": "code",
   "execution_count": null,
   "metadata": {},
   "outputs": [],
   "source": [
    "display(make_image(pixel_data[0], width=256))\n",
    "display(make_image(pixel_data[10], width=256))"
   ]
  },
  {
   "cell_type": "markdown",
   "metadata": {},
   "source": [
    "And now might not be a bad time to peek into the `data/images/0801-500/` directories to see what's inside them and what the images look like.... and get to know the data..."
   ]
  },
  {
   "cell_type": "markdown",
   "metadata": {},
   "source": [
    "### DataFrame it\n",
    "\n",
    "Let's put our raw pixel data into a `DataFrame`, and create a column for storing each image's label.\n",
    "\n",
    "(this next cell might take a while to run)"
   ]
  },
  {
   "cell_type": "code",
   "execution_count": null,
   "metadata": {},
   "outputs": [],
   "source": [
    "train_df = pd.DataFrame(pixel_data)\n",
    "train_df[\"label\"] = label_data"
   ]
  },
  {
   "cell_type": "markdown",
   "metadata": {},
   "source": [
    "Let's inspect our `DataFrame`:"
   ]
  },
  {
   "cell_type": "code",
   "execution_count": null,
   "metadata": {},
   "outputs": [],
   "source": [
    "train_df.head()"
   ]
  },
  {
   "cell_type": "markdown",
   "metadata": {},
   "source": [
    "### Test Files\n",
    "\n",
    "If that worked, repeat the process for the test files inside the `./data/images/0801-500/test/` directory.\n",
    "\n",
    "We can almost use the exact same steps as we did above to create a `DataFrame`, the only difference being that we don't have labels for these images."
   ]
  },
  {
   "cell_type": "code",
   "execution_count": null,
   "metadata": {
    "tags": [
     "work_cell"
    ]
   },
   "outputs": [],
   "source": [
    "# TODO: create a list of files in the test/ directory\n",
    "test_files = []\n",
    "\n",
    "# TODO: check its length and content\n",
    "\n",
    "test_pixel_data = []\n",
    "\n",
    "# TODO: loop over files and load their pixels into a list\n",
    "\n",
    "# TODO: load into DataFrame (this might take 20 - 30 seconds)"
   ]
  },
  {
   "cell_type": "markdown",
   "metadata": {},
   "source": [
    "Check the `DataFrame`"
   ]
  },
  {
   "cell_type": "code",
   "execution_count": null,
   "metadata": {},
   "outputs": [],
   "source": [
    "test_df.head()"
   ]
  },
  {
   "cell_type": "markdown",
   "metadata": {},
   "source": [
    "Looks like data!!\n",
    "\n",
    "We could train a `RandomForestClassifier` directly on this `DataFrame` and see what would happen, but my guess is that Python runs out of memory and crashes our tab/browser/computer...\n",
    "\n",
    "We'll use _projection_ to reduce the number of dimensions in our dataset. Projection is when we just drop some of the columns in our dataset. \n",
    "\n",
    "Which columns ? That's up to us.\n",
    "\n",
    "Let's first try using the first $N$ columns/features where $N$ is a number around $10$.\n",
    "\n",
    "This is how we get the first $N$ columns from a `DataFrame`:"
   ]
  },
  {
   "cell_type": "code",
   "execution_count": null,
   "metadata": {},
   "outputs": [],
   "source": [
    "# split input and output features\n",
    "NUM_FEATURES = 10\n",
    "chosen_columns = train_df.columns[:NUM_FEATURES]\n",
    "train_features = train_df[chosen_columns]\n",
    "\n",
    "out_features = train_df[\"label\"]\n",
    "\n",
    "# also separate test dataset features\n",
    "test_features = test_df[chosen_columns]"
   ]
  },
  {
   "cell_type": "markdown",
   "metadata": {},
   "source": [
    "From our [Week 08](https://github.com/DM-GY-9103-2024F-H/WK08) notebook, we can create a classification model by following these steps:\n",
    "\n",
    "1. Load dataset (done! 🎉)\n",
    "2. Encode label features as numbers (not needed! done! ⚡️)\n",
    "3. Normalize the data (not needed! done! 🍾)\n",
    "4. Separate the outcome variable and the input features (done! ☀️)\n",
    "5. Create a model using chosen features\n",
    "6. Run model on training data and measure error\n",
    "7. Run model on test data, measure error, plot predictions, interpret results"
   ]
  },
  {
   "cell_type": "code",
   "execution_count": null,
   "metadata": {
    "tags": [
     "work_cell"
    ]
   },
   "outputs": [],
   "source": [
    "# TODO: create a brand new classifier\n",
    "# TODO: fit the model\n",
    "# TODO: run predictions\n",
    "# TODO: measure classification accuracy"
   ]
  },
  {
   "cell_type": "markdown",
   "metadata": {},
   "source": [
    "That should look promising. Let's run this on our test dataset.\n",
    "\n",
    "Remember we already separated the test data features into a variable called `test_features` above.\n",
    "\n",
    "Now we just have to run the prediction and measure accuracy."
   ]
  },
  {
   "cell_type": "code",
   "execution_count": null,
   "metadata": {
    "tags": [
     "work_cell"
    ]
   },
   "outputs": [],
   "source": [
    "# TODO: run predictions on test data\n",
    "# TODO: measure classification accuracy"
   ]
  },
  {
   "cell_type": "markdown",
   "metadata": {},
   "source": [
    "### Interpretation\n",
    "\n",
    "Using just the first $10$ pixels of the image the classifier is able to label most of the images correctly.\n",
    "\n",
    "<span style=\"color:hotpink\">\n",
    "How can we improve this classifier? How does the number of features affect the classification accuracy of the test data<br>\n",
    "How does the choice of pixels affect the accuracy?<br><br>\n",
    "Experiment with some of these parameters and explain your findings below.\n",
    "</span>"
   ]
  },
  {
   "cell_type": "markdown",
   "metadata": {
    "tags": [
     "work_cell"
    ]
   },
   "source": [
    "<span style=\"color:hotpink;\">EDIT THIS CELL WITH ANSWER</span>"
   ]
  }
 ],
 "metadata": {
  "colab": {
   "authorship_tag": "ABX9TyPxe2qYxIG7EblrvD1C4Pmv",
   "provenance": []
  },
  "kernelspec": {
   "display_name": "Python 3",
   "language": "python",
   "name": "python3"
  },
  "language_info": {
   "codemirror_mode": {
    "name": "ipython",
    "version": 3
   },
   "file_extension": ".py",
   "mimetype": "text/x-python",
   "name": "python",
   "nbconvert_exporter": "python",
   "pygments_lexer": "ipython3",
   "version": "3.10.15"
  }
 },
 "nbformat": 4,
 "nbformat_minor": 0
}
